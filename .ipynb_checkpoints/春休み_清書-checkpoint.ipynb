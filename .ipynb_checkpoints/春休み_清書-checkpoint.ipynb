{
 "cells": [
  {
   "cell_type": "code",
   "execution_count": 2,
   "metadata": {},
   "outputs": [],
   "source": [
    "%matplotlib inline\n",
    "import matplotlib.pyplot as plt\n",
    "import numpy as np\n",
    "import pandas as pd\n",
    "from sklearn.tree import DecisionTreeClassifier\n",
    "from sklearn.model_selection import train_test_split"
   ]
  },
  {
   "cell_type": "code",
   "execution_count": 3,
   "metadata": {},
   "outputs": [],
   "source": [
    "student_mat = pd.read_csv('~/Downloads/student/student-mat.csv', delimiter = ';')"
   ]
  },
  {
   "cell_type": "code",
   "execution_count": 4,
   "metadata": {},
   "outputs": [],
   "source": [
    "X = student_mat.drop(['G3', 'school', 'guardian'], axis=1)\n",
    "y = student_mat['G3']"
   ]
  },
  {
   "cell_type": "code",
   "execution_count": 5,
   "metadata": {},
   "outputs": [],
   "source": [
    "X['sex'] = X['sex'].replace('yes', 1).replace('no', 0)\n",
    "X['sex'] = X['sex'].replace('M', 1).replace('F', 0)\n",
    "X['address'] =  X['address'].apply(lambda x : 1 if x == 'U' else 0)\n",
    "X['famsize'] =  X['famsize'].apply(lambda x : 1 if x == 'GT3' else 0)\n",
    "X['Pstatus'] =  X['Pstatus'].apply(lambda x : 1 if x == 'T' else 0)"
   ]
  },
  {
   "cell_type": "code",
   "execution_count": 6,
   "metadata": {},
   "outputs": [],
   "source": [
    "def feature_profession(prof):\n",
    "    if prof == 'teacher':\n",
    "        return 5\n",
    "    elif prof == 'health':\n",
    "        return 4\n",
    "    elif prof == 'services':\n",
    "        return 3\n",
    "    elif prof == 'at home':\n",
    "        return 2\n",
    "    else:\n",
    "        return 1\n",
    "    \n",
    "    \n",
    "def feature_reason(res):\n",
    "    if res == 'home':\n",
    "        return 1\n",
    "    if res == 'reputation':\n",
    "        return 4\n",
    "    if res == 'course':\n",
    "        return 3\n",
    "    else:\n",
    "        return 2\n",
    "    "
   ]
  },
  {
   "cell_type": "code",
   "execution_count": 7,
   "metadata": {},
   "outputs": [],
   "source": [
    "X['Mjob'] = X['Mjob'].apply(feature_profession)\n",
    "X['Fjob'] = X['Fjob'].apply(feature_profession)\n",
    "X['reason'] = X['reason'].apply(feature_reason)\n",
    "\n",
    "\n",
    "X['schoolsup'] = X['schoolsup'].replace('yes', 1).replace('no', 0)\n",
    "X['famsup'] = X['famsup'].replace('yes', 1).replace('no', 0)\n",
    "X['paid'] = X['paid'].replace('yes', 1).replace('no', 0)\n",
    "X['activities'] = X['activities'].replace('yes', 1).replace('no', 0)\n",
    "X['nursery'] = X['nursery'].replace('yes', 1).replace('no', 0)\n",
    "X['higher'] = X['higher'].replace('yes', 1).replace('no', 0)\n",
    "X['internet'] = X['internet'].replace('yes', 1).replace('no', 0)\n",
    "X['romantic'] =  X['romantic'].replace('yes', 1).replace('no', 0)"
   ]
  },
  {
   "cell_type": "code",
   "execution_count": 8,
   "metadata": {},
   "outputs": [],
   "source": [
    "X_train, X_test, y_train, y_test = train_test_split(X, y, random_state=0)"
   ]
  },
  {
   "cell_type": "code",
   "execution_count": 9,
   "metadata": {},
   "outputs": [
    {
     "name": "stdout",
     "output_type": "stream",
     "text": [
      "Accuracy on training set: 1.000\n",
      "Accuracy on test set: 0.424\n"
     ]
    }
   ],
   "source": [
    "# 決定木\n",
    "tree = DecisionTreeClassifier(random_state=0)\n",
    "tree.fit(X_train, y_train)\n",
    "print(\"Accuracy on training set: {:.3f}\".format(tree.score(X_train, y_train)))\n",
    "print(\"Accuracy on test set: {:.3f}\".format(tree.score(X_test, y_test)))"
   ]
  },
  {
   "cell_type": "code",
   "execution_count": 10,
   "metadata": {},
   "outputs": [
    {
     "name": "stdout",
     "output_type": "stream",
     "text": [
      "Accuracy on training set: 1.000\n",
      "Accuracy on test set: 0.515\n"
     ]
    }
   ],
   "source": [
    "# 勾配ブースティング回帰木\n",
    "from sklearn.ensemble import GradientBoostingClassifier\n",
    "X_train, X_test, y_train, y_test = train_test_split(X, y,  random_state=0)\n",
    "\n",
    "gbrt = GradientBoostingClassifier(random_state=0)\n",
    "gbrt.fit(X_train, y_train)\n",
    "\n",
    "print(\"Accuracy on training set: {:.3f}\".format(gbrt.score(X_train, y_train)))\n",
    "print(\"Accuracy on test set: {:.3f}\".format(gbrt.score(X_test, y_test)))"
   ]
  },
  {
   "cell_type": "code",
   "execution_count": 11,
   "metadata": {},
   "outputs": [
    {
     "name": "stdout",
     "output_type": "stream",
     "text": [
      "Accuracy on training set: 0.863\n",
      "Accuracy on test set: 0.790\n"
     ]
    },
    {
     "name": "stderr",
     "output_type": "stream",
     "text": [
      "/Users/MacUser/anaconda2/envs/tf140/lib/python3.6/site-packages/sklearn/linear_model/base.py:485: RuntimeWarning: internal gelsd driver lwork query error, required iwork dimension not returned. This is likely the result of LAPACK bug 0038, fixed in LAPACK 3.2.2 (released July 21, 2010). Falling back to 'gelss' driver.\n",
      "  linalg.lstsq(X, y)\n"
     ]
    }
   ],
   "source": [
    "# 最小二乗法\n",
    "from sklearn.linear_model import LinearRegression\n",
    "lr = LinearRegression().fit(X_train, y_train)\n",
    "print(\"Accuracy on training set: {:.3f}\".format(lr.score(X_train, y_train)))\n",
    "print(\"Accuracy on test set: {:.3f}\".format(lr.score(X_test, y_test)))"
   ]
  },
  {
   "cell_type": "code",
   "execution_count": null,
   "metadata": {},
   "outputs": [],
   "source": []
  },
  {
   "cell_type": "code",
   "execution_count": null,
   "metadata": {},
   "outputs": [],
   "source": []
  }
 ],
 "metadata": {
  "kernelspec": {
   "display_name": "Python 3",
   "language": "python",
   "name": "python3"
  },
  "language_info": {
   "codemirror_mode": {
    "name": "ipython",
    "version": 3
   },
   "file_extension": ".py",
   "mimetype": "text/x-python",
   "name": "python",
   "nbconvert_exporter": "python",
   "pygments_lexer": "ipython3",
   "version": "3.6.7"
  }
 },
 "nbformat": 4,
 "nbformat_minor": 2
}
